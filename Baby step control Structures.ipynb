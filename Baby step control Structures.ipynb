{
 "cells": [
  {
   "cell_type": "code",
   "execution_count": 1,
   "id": "da93215e-68f2-4251-b41e-2ef68e5c5e85",
   "metadata": {},
   "outputs": [
    {
     "name": "stdout",
     "output_type": "stream",
     "text": [
      "Welcome to Assignment-1\n"
     ]
    }
   ],
   "source": [
    "# Welcome to Assignment-1\n",
    "print(\"Welcome to Assignment-1\")"
   ]
  },
  {
   "cell_type": "code",
   "execution_count": 2,
   "id": "1b3e7b5e-a039-4b5d-befd-70b55d655685",
   "metadata": {},
   "outputs": [
    {
     "name": "stdout",
     "output_type": "stream",
     "text": [
      "40\n"
     ]
    }
   ],
   "source": [
    "# Num1= 10\n",
    "# Num2= 30\n",
    "# Add= 40\n",
    "Num1= 10\n",
    "Num2= 30\n",
    "add=Num1+Num2\n",
    "print(add)"
   ]
  },
  {
   "cell_type": "code",
   "execution_count": 29,
   "id": "8cdf67c9-539d-4843-a9ac-fc593c08f7be",
   "metadata": {},
   "outputs": [
    {
     "name": "stdin",
     "output_type": "stream",
     "text": [
      "Enter the BMI: 34\n"
     ]
    },
    {
     "name": "stdout",
     "output_type": "stream",
     "text": [
      "Very Over weight\n"
     ]
    }
   ],
   "source": [
    "#BMI Finder\n",
    "\n",
    "# W=int(input(\"Enter your weight:\"))\n",
    "# H=float(input(\"Enter your Height in Meter:\"))\n",
    "BMI=int(input(\"Enter the BMI:\"))\n",
    "# print(\"Your BMI was:\",BMI)\n",
    "if(BMI<18.5):\n",
    "    print(\"Under weight\")\n",
    "elif(BMI<24.9):\n",
    "    print(\"Normal weight\")\n",
    "elif(BMI<29.5):\n",
    "    print(\"Over Weight\")\n",
    "else:\n",
    "    print(\"Very Over weight\")"
   ]
  },
  {
   "cell_type": "code",
   "execution_count": null,
   "id": "07e931f5-7cc2-4015-8af4-10456c38ec31",
   "metadata": {},
   "outputs": [],
   "source": []
  },
  {
   "cell_type": "code",
   "execution_count": null,
   "id": "40c1025c-2ca9-40ae-9f42-0f346c48a9f9",
   "metadata": {},
   "outputs": [],
   "source": []
  }
 ],
 "metadata": {
  "kernelspec": {
   "display_name": "Python 3 (ipykernel)",
   "language": "python",
   "name": "python3"
  },
  "language_info": {
   "codemirror_mode": {
    "name": "ipython",
    "version": 3
   },
   "file_extension": ".py",
   "mimetype": "text/x-python",
   "name": "python",
   "nbconvert_exporter": "python",
   "pygments_lexer": "ipython3",
   "version": "3.11.7"
  }
 },
 "nbformat": 4,
 "nbformat_minor": 5
}
