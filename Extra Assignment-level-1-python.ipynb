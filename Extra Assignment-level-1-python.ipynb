{
 "cells": [
  {
   "cell_type": "code",
   "execution_count": 10,
   "id": "7a0cd596-a572-42f9-a4f0-86002de2867a",
   "metadata": {},
   "outputs": [
    {
     "name": "stdout",
     "output_type": "stream",
     "text": [
      "HOPE AI\n"
     ]
    }
   ],
   "source": [
    "    #print Statement\n",
    "print(\"HOPE AI\")"
   ]
  },
  {
   "cell_type": "code",
   "execution_count": 15,
   "id": "3da53339-8445-4f6a-a0ff-b082a095fa87",
   "metadata": {},
   "outputs": [
    {
     "name": "stdin",
     "output_type": "stream",
     "text": [
      "Enter your Institute Name:  HOPE AI\n"
     ]
    }
   ],
   "source": [
    "        #Buy inputs\n",
    "\n",
    "Inst_name=input(\"Enter your Institute Name: \")\n"
   ]
  },
  {
   "cell_type": "code",
   "execution_count": 13,
   "id": "3307f489-3631-4a16-b759-0114c70abf4f",
   "metadata": {},
   "outputs": [
    {
     "name": "stdin",
     "output_type": "stream",
     "text": [
      "Enter your name : Raj\n",
      "Enter your age : 17\n",
      "Enter your School : Guru School\n",
      "Enter your Degree : B.E CSE\n"
     ]
    }
   ],
   "source": [
    "        #Buy inputs\n",
    "Name=input(\"Enter your name :\")\n",
    "age=int(input(\"Enter your age :\"))\n",
    "School=input(\"Enter your School :\")\n",
    "Degree=input(\"Enter your Degree :\")"
   ]
  },
  {
   "cell_type": "code",
   "execution_count": 22,
   "id": "7ffdf886-0595-420f-baf5-89362346928b",
   "metadata": {},
   "outputs": [
    {
     "name": "stdout",
     "output_type": "stream",
     "text": [
      "a = 43\n",
      "b = 34\n",
      "add = 77\n"
     ]
    }
   ],
   "source": [
    "        # Addition\n",
    "a=43\n",
    "b=34\n",
    "print(\"a =\",a)\n",
    "print(\"b =\",b)\n",
    "print(\"add =\",a+b)"
   ]
  },
  {
   "cell_type": "code",
   "execution_count": 23,
   "id": "7ff7ba00-c0d8-4fe5-b144-11cdae836992",
   "metadata": {},
   "outputs": [
    {
     "name": "stdout",
     "output_type": "stream",
     "text": [
      "a = 43\n",
      "b= 34\n",
      "Sub = 9\n"
     ]
    }
   ],
   "source": [
    "        #Subtraction\n",
    "a=43\n",
    "b=34\n",
    "print(\"a =\",a)\n",
    "print(\"b=\",b)\n",
    "print(\"Sub =\",a-b)"
   ]
  },
  {
   "cell_type": "code",
   "execution_count": 25,
   "id": "72db1b52-f2f2-4290-8fbb-59ef2bdcb7ba",
   "metadata": {},
   "outputs": [
    {
     "name": "stdout",
     "output_type": "stream",
     "text": [
      "a = 63\n",
      "b = 97\n",
      "Mul = 6111\n"
     ]
    }
   ],
   "source": [
    "        #multiplication\n",
    "a=63\n",
    "b=97\n",
    "print(\"a =\",a)\n",
    "print(\"b =\",b)\n",
    "print(\"Mul =\",a*b)\n"
   ]
  },
  {
   "cell_type": "code",
   "execution_count": 26,
   "id": "9e70e23a-daf5-42ae-b541-02b6c58314c1",
   "metadata": {},
   "outputs": [
    {
     "name": "stdout",
     "output_type": "stream",
     "text": [
      "a = 76\n",
      "b = 31\n",
      "Floor Div = 2.4516129032258065\n"
     ]
    }
   ],
   "source": [
    "        #Division\n",
    "a =76\n",
    "b=31\n",
    "print(\"a =\",a)\n",
    "print(\"b =\",b)\n",
    "print(\"Floor Div =\",a/b)"
   ]
  },
  {
   "cell_type": "code",
   "execution_count": 33,
   "id": "e2e34e87-cda1-4ec8-80ca-4072d66688f4",
   "metadata": {},
   "outputs": [
    {
     "name": "stdout",
     "output_type": "stream",
     "text": [
      "a = 76\n",
      "b = 31\n",
      "2\n"
     ]
    }
   ],
   "source": [
    "        #loor division\n",
    "a =76\n",
    "b=31\n",
    "c=int(a/b)\n",
    "print (\"a =\",a)\n",
    "print (\"b =\",b)\n",
    "print (c)"
   ]
  },
  {
   "cell_type": "code",
   "execution_count": 38,
   "id": "442f4320-78fd-4225-a4f3-aba66619e233",
   "metadata": {},
   "outputs": [
    {
     "name": "stdout",
     "output_type": "stream",
     "text": [
      "a = 76\n",
      "b = 31\n",
      "Modulo = 14\n"
     ]
    }
   ],
   "source": [
    "        #Modulo\n",
    "a=76\n",
    "b=31\n",
    "c=a%b\n",
    "print (\"a =\",a)\n",
    "print (\"b =\",b)\n",
    "print(\"Modulo =\",c)\n"
   ]
  },
  {
   "cell_type": "code",
   "execution_count": 40,
   "id": "dd9d9a42-4019-436c-8d16-31d37d644bd1",
   "metadata": {},
   "outputs": [
    {
     "name": "stdout",
     "output_type": "stream",
     "text": [
      "a = 4\n",
      "b = 4\n",
      "Power = 256\n"
     ]
    }
   ],
   "source": [
    "        #Power\n",
    "a = 4\n",
    "b = 4\n",
    "c=a**b\n",
    "print (\"a =\",a)\n",
    "print (\"b =\",b)\n",
    "print(\"Power =\",c)"
   ]
  },
  {
   "cell_type": "code",
   "execution_count": null,
   "id": "5cc56023-6cb9-46c3-8227-e2d9524907b0",
   "metadata": {},
   "outputs": [],
   "source": []
  }
 ],
 "metadata": {
  "kernelspec": {
   "display_name": "Python 3 (ipykernel)",
   "language": "python",
   "name": "python3"
  },
  "language_info": {
   "codemirror_mode": {
    "name": "ipython",
    "version": 3
   },
   "file_extension": ".py",
   "mimetype": "text/x-python",
   "name": "python",
   "nbconvert_exporter": "python",
   "pygments_lexer": "ipython3",
   "version": "3.11.7"
  }
 },
 "nbformat": 4,
 "nbformat_minor": 5
}
