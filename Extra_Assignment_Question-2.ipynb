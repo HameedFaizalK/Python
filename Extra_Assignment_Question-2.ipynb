{
 "cells": [
  {
   "cell_type": "code",
   "execution_count": 11,
   "id": "33ab6a3f-eeb6-48fe-9978-b0c6c9fa98c1",
   "metadata": {},
   "outputs": [
    {
     "name": "stdout",
     "output_type": "stream",
     "text": [
      "0\n",
      "1\n",
      "2\n",
      "3\n",
      "4\n",
      "5\n",
      "6\n",
      "7\n",
      "8\n",
      "9\n",
      "10\n",
      "11\n",
      "12\n",
      "13\n",
      "14\n",
      "15\n",
      "16\n",
      "17\n",
      "18\n",
      "19\n"
     ]
    }
   ],
   "source": [
    "        # print 0 to 20 by using range\n",
    "list = range(0,20)\n",
    "for i in list:\n",
    "    print(i)"
   ]
  },
  {
   "cell_type": "code",
   "execution_count": 24,
   "id": "dc2357d5-a76d-4dbb-9769-3d8f3f595ae7",
   "metadata": {},
   "outputs": [
    {
     "name": "stdout",
     "output_type": "stream",
     "text": [
      "10 11 12 13 14 15 16 17 18 19 "
     ]
    }
   ],
   "source": [
    "        # print range 10 to 20\n",
    "a=range(10,20)\n",
    "for i in a:\n",
    "    print(i,end=\" \")"
   ]
  },
  {
   "cell_type": "code",
   "execution_count": 38,
   "id": "cb3ec69f-6256-45e0-8149-187b99c6eb38",
   "metadata": {},
   "outputs": [
    {
     "name": "stdout",
     "output_type": "stream",
     "text": [
      "[10, 20, 14, 55, 43, 87, 76]\n",
      "Number of item in the list2:\n",
      "7\n"
     ]
    }
   ],
   "source": [
    "        # Print number of items in the list by using 'len'\n",
    "List=[10, 20, 14, 55, 43, 87, 76]\n",
    "print(List)\n",
    "print(\"Number of item in the list2:\")\n",
    "print(len(List))"
   ]
  },
  {
   "cell_type": "code",
   "execution_count": 40,
   "id": "9b72b00d-c285-4cef-8302-d5fc0dd33032",
   "metadata": {},
   "outputs": [
    {
     "name": "stdout",
     "output_type": "stream",
     "text": [
      "Artificial Intelligence\n",
      "A\n",
      "r\n",
      "t\n",
      "i\n",
      "f\n",
      "i\n",
      "c\n",
      "i\n",
      "a\n",
      "l\n",
      " \n",
      "I\n",
      "n\n",
      "t\n",
      "e\n",
      "l\n",
      "l\n",
      "i\n",
      "g\n",
      "e\n",
      "n\n",
      "c\n",
      "e\n"
     ]
    }
   ],
   "source": [
    "AI = \"Artificial Intelligence\"\n",
    "print(AI)\n",
    "for i in AI:\n",
    "    print(i)"
   ]
  },
  {
   "cell_type": "code",
   "execution_count": 42,
   "id": "2e97b4f5-7f62-466b-bf11-f3deab2af225",
   "metadata": {},
   "outputs": [
    {
     "name": "stdout",
     "output_type": "stream",
     "text": [
      "-Your Name-\n",
      "-Your Age-\n",
      "-Your Profession-\n"
     ]
    }
   ],
   "source": [
    "print(\"-Your Name-\")\n",
    "print(\"-Your Age-\")\n",
    "print(\"-Your Profession-\")"
   ]
  },
  {
   "cell_type": "code",
   "execution_count": 23,
   "id": "e859fc6d-2db0-4268-9e21-ae1949fd1c81",
   "metadata": {},
   "outputs": [
    {
     "name": "stdout",
     "output_type": "stream",
     "text": [
      "(1, 'Welcome', 2, 'Hope')\n"
     ]
    }
   ],
   "source": [
    "#print yhis mixered datatype using Tuples\n",
    "tuple=(1, 'Welcome', 2, 'Hope')\n",
    "print(tuple)"
   ]
  },
  {
   "cell_type": "code",
   "execution_count": 2,
   "id": "1c9e7e94-cff1-4dfd-970e-a69a50974cca",
   "metadata": {},
   "outputs": [
    {
     "data": {
      "text/plain": [
       "((0, 1, 2, 3), ('python', 'HOPE'))"
      ]
     },
     "execution_count": 2,
     "metadata": {},
     "output_type": "execute_result"
    }
   ],
   "source": [
    "        #nested tuple\n",
    "tup = (0, 1, 2, 3)\n",
    "tup1 =('python','hope') \n",
    "((0, 1, 2, 3), ('python', 'HOPE'))"
   ]
  },
  {
   "cell_type": "code",
   "execution_count": 41,
   "id": "5fe7c51e-2465-442d-834c-15b8db5f147c",
   "metadata": {},
   "outputs": [
    {
     "name": "stdout",
     "output_type": "stream",
     "text": [
      "(20, 10, 16, 19, 25, 1, 276, 188)\n",
      "19 Is odd\n",
      "25 Is odd\n",
      "1 Is odd\n"
     ]
    }
   ],
   "source": [
    "#Print Odd Numbers in the list\n",
    "#number1=int(input(\"Enter the number:\"))\n",
    "num11=(20,10,16,19,25,1,276,188)\n",
    "print(num11)\n",
    "for no in num11:\n",
    "    if no%2 :\n",
    "        print(no,\"Is odd\")\n",
    "    #else :\n",
    "        #print (no,\"Is even\")"
   ]
  },
  {
   "cell_type": "code",
   "execution_count": 50,
   "id": "1cacdc91-7337-4fb4-8ffa-c9039df65931",
   "metadata": {},
   "outputs": [
    {
     "name": "stdout",
     "output_type": "stream",
     "text": [
      "(20, 10, 16, 19, 25, 1, 276, 188)\n",
      "20  is even\n",
      "10  is even\n",
      "16  is even\n",
      "276  is even\n",
      "188  is even\n"
     ]
    }
   ],
   "source": [
    "# print Even numbers in the list\n",
    "#(20,10,16,19,25,1,276,188)\n",
    "#20 is odd\n",
    "#10 is odd\n",
    "#16 is odd\n",
    "numm11 = (20,10,16,19,25,1,276,188)\n",
    "print(num11)\n",
    "for num in numm11:\n",
    "    if num%2==0:\n",
    "        print(num,\" is even\")"
   ]
  },
  {
   "cell_type": "markdown",
   "id": "bf9a4894-cd5b-4f52-ac6a-147169db5a50",
   "metadata": {},
   "source": []
  },
  {
   "cell_type": "code",
   "execution_count": null,
   "id": "569fc94a-312d-41b7-8c54-c47cafffff6b",
   "metadata": {},
   "outputs": [],
   "source": [
    " "
   ]
  },
  {
   "cell_type": "code",
   "execution_count": null,
   "id": "fa471a86-5349-4d26-8cd2-57bfc3416273",
   "metadata": {},
   "outputs": [],
   "source": []
  }
 ],
 "metadata": {
  "kernelspec": {
   "display_name": "Python 3 (ipykernel)",
   "language": "python",
   "name": "python3"
  },
  "language_info": {
   "codemirror_mode": {
    "name": "ipython",
    "version": 3
   },
   "file_extension": ".py",
   "mimetype": "text/x-python",
   "name": "python",
   "nbconvert_exporter": "python",
   "pygments_lexer": "ipython3",
   "version": "3.11.7"
  }
 },
 "nbformat": 4,
 "nbformat_minor": 5
}
