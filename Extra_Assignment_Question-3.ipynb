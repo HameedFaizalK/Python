{
 "cells": [
  {
   "cell_type": "code",
   "execution_count": 17,
   "id": "fab24c6d-c77b-4980-8255-aa8d259e7e15",
   "metadata": {},
   "outputs": [
    {
     "name": "stdin",
     "output_type": "stream",
     "text": [
      "Value : 10\n"
     ]
    },
    {
     "name": "stdout",
     "output_type": "stream",
     "text": [
      "CORRECT\n"
     ]
    }
   ],
   "source": [
    "#print 'CORRECT' if i == 10\n",
    "a = int(input(\"Value :\"))\n",
    "if a == 10:\n",
    "    print(\"CORRECT\")\n",
    "else :\n",
    "    print(\"Wrong credential\")"
   ]
  },
  {
   "cell_type": "code",
   "execution_count": 33,
   "id": "569a6322-fb4b-4ccc-9d3a-9ff492dd799b",
   "metadata": {},
   "outputs": [
    {
     "name": "stdin",
     "output_type": "stream",
     "text": [
      "Enter the password : sdfsf\n"
     ]
    },
    {
     "name": "stdout",
     "output_type": "stream",
     "text": [
      "Password is wrong\n"
     ]
    }
   ],
   "source": [
    "#Check the password, using if and else\n",
    "pw = input(\"Enter the password :\")\n",
    "if pw == \"hope@12345\":\n",
    "    print(\"Your Password is correct\")\n",
    "else :\n",
    "    print(\"Password is wrong\")"
   ]
  },
  {
   "cell_type": "code",
   "execution_count": 34,
   "id": "5184a871-ca54-45dc-be38-265328f3c05d",
   "metadata": {},
   "outputs": [
    {
     "name": "stdout",
     "output_type": "stream",
     "text": [
      "Its wrong password\n",
      "Its wrong password\n",
      "Its wrong password\n",
      "This is the right password\n",
      "Its wrong password\n"
     ]
    }
   ],
   "source": [
    "pw = (\"Hope@12345\",\"hopee@12345\",\"HOPE@123\",\"hope@12345\",\"Hope@123\")\n",
    "for pwd in pw:\n",
    "    if pwd == \"hope@12345\":\n",
    "        print(\"This is the right password\")\n",
    "    else :\n",
    "        print(\"Its wrong password\")\n"
   ]
  },
  {
   "cell_type": "code",
   "execution_count": 41,
   "id": "39aa9ebf-73a9-40a2-a14b-f7b22eff270b",
   "metadata": {},
   "outputs": [
    {
     "name": "stdin",
     "output_type": "stream",
     "text": [
      "Enter the age : 20\n"
     ]
    },
    {
     "name": "stdout",
     "output_type": "stream",
     "text": [
      "Adult\n"
     ]
    }
   ],
   "source": [
    "#Catagory the people by their age like children, adult, citizen, senior citizen...\n",
    "cat = int(input(\"Enter the age :\"))#(\"Children\",\"adult\",\"citizen\",\"senior citizen\")\n",
    "if cat<18 :\n",
    "    print(\"Children\")\n",
    "elif cat<28:\n",
    "    print(\"Adult\")\n",
    "elif cat<55:\n",
    "    print(\"Citizen\")\n",
    "else :\n",
    "    print(\"senior citizen\")\n",
    "    "
   ]
  },
  {
   "cell_type": "code",
   "execution_count": 49,
   "id": "1fe21169-c49a-4560-9e70-5a6d71555a9f",
   "metadata": {},
   "outputs": [
    {
     "name": "stdin",
     "output_type": "stream",
     "text": [
      "Enter any number: -26\n"
     ]
    },
    {
     "name": "stdout",
     "output_type": "stream",
     "text": [
      "Negative\n"
     ]
    }
   ],
   "source": [
    "#Find whether given number is positive or negative\n",
    "num=int(input(\"Enter any number:\"))\n",
    "if num<0:\n",
    "    print(\"Negative\")\n",
    "elif num>0:\n",
    "    print(\"Possitive\")\n",
    "elif num==0:\n",
    "    print(\"It is zero\")"
   ]
  },
  {
   "cell_type": "code",
   "execution_count": 57,
   "id": "bbec2d4a-e0e1-4db2-afd7-31ffacf0336a",
   "metadata": {},
   "outputs": [
    {
     "name": "stdin",
     "output_type": "stream",
     "text": [
      "Enter the number 25\n"
     ]
    },
    {
     "name": "stdout",
     "output_type": "stream",
     "text": [
      "its divisble by 5\n"
     ]
    }
   ],
   "source": [
    "num = int(input(\"Enter the number\"))\n",
    "if num%5==0:\n",
    "    print(\"its divisble by 5\")\n",
    "else:\n",
    "    print(\"It is not divisible by 5\")"
   ]
  },
  {
   "cell_type": "markdown",
   "id": "6675a3f7-5259-45e5-840d-63a6788cde17",
   "metadata": {},
   "source": []
  },
  {
   "cell_type": "code",
   "execution_count": null,
   "id": "6c0ec5a7-95ee-4a81-98e6-4faceda13a3d",
   "metadata": {},
   "outputs": [],
   "source": []
  }
 ],
 "metadata": {
  "kernelspec": {
   "display_name": "Python 3 (ipykernel)",
   "language": "python",
   "name": "python3"
  },
  "language_info": {
   "codemirror_mode": {
    "name": "ipython",
    "version": 3
   },
   "file_extension": ".py",
   "mimetype": "text/x-python",
   "name": "python",
   "nbconvert_exporter": "python",
   "pygments_lexer": "ipython3",
   "version": "3.11.7"
  }
 },
 "nbformat": 4,
 "nbformat_minor": 5
}
