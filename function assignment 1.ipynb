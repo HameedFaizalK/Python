{
 "cells": [
  {
   "cell_type": "code",
   "execution_count": 12,
   "id": "997e02ad-4903-4ca3-bc14-c11c1f1be377",
   "metadata": {},
   "outputs": [],
   "source": [
    "#Create a class and function, and list out the items in the list\n",
    "list=[\"Machine learning\",\"Neural networks\",\"Vision\",\"Robotics\",\"Speech processing\",\"Natural language processing\"]"
   ]
  },
  {
   "cell_type": "code",
   "execution_count": 26,
   "id": "0b1503d4-d25e-4016-be65-6969a10e5459",
   "metadata": {},
   "outputs": [
    {
     "name": "stdout",
     "output_type": "stream",
     "text": [
      "Sub-fields in AI are:\n",
      "Machine learning\n",
      "Neural networks\n",
      "Vision\n",
      "Robotics\n",
      "Speech processing\n",
      "Natural language processing\n"
     ]
    }
   ],
   "source": [
    "def ai():\n",
    "    print(\"Sub-fields in AI are:\")\n",
    "    for i in list:\n",
    "        print(i)\n",
    "ai()"
   ]
  },
  {
   "cell_type": "code",
   "execution_count": 10,
   "id": "2f7d7ea0-2c04-473d-83cd-896a4d027479",
   "metadata": {},
   "outputs": [
    {
     "name": "stdin",
     "output_type": "stream",
     "text": [
      "Enter the number : 52452\n"
     ]
    },
    {
     "name": "stdout",
     "output_type": "stream",
     "text": [
      "52452 is Even Number\n"
     ]
    }
   ],
   "source": [
    "#Create a function that checks whether the given number is Odd or Even\n",
    "num = int(input(\"Enter the number :\"))\n",
    "def oddeven():\n",
    "    if(num%2)==1:\n",
    "        print(num,\"is odd number\")\n",
    "    else:\n",
    "        print(num,\"is Even Number\")\n",
    "oddeven()"
   ]
  },
  {
   "cell_type": "code",
   "execution_count": 38,
   "id": "6095713f-dc2c-4d2a-8ecd-e5bcf01427d7",
   "metadata": {},
   "outputs": [
    {
     "name": "stdin",
     "output_type": "stream",
     "text": [
      "Enter your Gender : female\n",
      "Enter your Age : 17\n"
     ]
    },
    {
     "name": "stdout",
     "output_type": "stream",
     "text": [
      "Eligible for marry\n"
     ]
    }
   ],
   "source": [
    " #Create a function that tells elegibility of marriage for male and female according to their age limit like 21 for male and 18 for female\n",
    "Gender=input(\"Enter your Gender :\")\n",
    "Age=input(\"Enter your Age :\")\n",
    "def gen(G,A):\n",
    "    if (Gender==):\n",
    "        print(\"Eligible for marry\")\n",
    "    elif(Gender<Age):\n",
    "        print(\"Not Eligible for marry\")\n",
    "    elif(Gender>Age):\n",
    "        print(\"Eligible for marry\")\n",
    "    else:\n",
    "        print(\"Not eligible\")\n",
    "gen(Gender,Age)"
   ]
  },
  {
   "cell_type": "code",
   "execution_count": 1,
   "id": "3b701b3b-1420-4ce5-bb29-245c2a5ef99a",
   "metadata": {},
   "outputs": [
    {
     "name": "stdin",
     "output_type": "stream",
     "text": [
      "Enter your gender : male\n",
      "Enter your age : 20\n"
     ]
    },
    {
     "name": "stdout",
     "output_type": "stream",
     "text": [
      "Not eligible\n"
     ]
    },
    {
     "data": {
      "text/plain": [
       "'Not Eligible'"
      ]
     },
     "execution_count": 1,
     "metadata": {},
     "output_type": "execute_result"
    }
   ],
   "source": [
    "# Create a function that tells elegibility of marriage for male and female according to their age limit like 21 for male and 18 for female\n",
    "\n",
    "gend=input(\"Enter your gender :\")\n",
    "age=int(input(\"Enter your age :\"))\n",
    "def Elg():\n",
    "    if(gend==\"male\"):\n",
    "        if(age>=21):\n",
    "            print(\"Eligible\")\n",
    "            elgi=\"Eligible\"\n",
    "        else:\n",
    "            print(\"Not eligible\")\n",
    "            elgi=\"Not Eligible\"\n",
    "    elif(gend==\"female\"):\n",
    "        if(age>=18):\n",
    "            print(\"Eligible\")\n",
    "            elgi=\"Eligible\"\n",
    "        else:\n",
    "            print(\"Not eligible\")\n",
    "            elgi=\"Not Eligible\"\n",
    "    return elgi            \n",
    "Elg()"
   ]
  },
  {
   "cell_type": "code",
   "execution_count": 2,
   "id": "3335dfb8-7761-43fe-8688-2e04323416cd",
   "metadata": {},
   "outputs": [
    {
     "name": "stdin",
     "output_type": "stream",
     "text": [
      "Enter subject1 mark : 95\n",
      "Enter subject2 mark : 85\n",
      "Enter subject3 mark : 97\n",
      "Enter subject4 mark : 89\n",
      "Enter subject5 mark : 88\n"
     ]
    },
    {
     "name": "stdout",
     "output_type": "stream",
     "text": [
      "Total : 454\n",
      "Persentage: 90.8\n"
     ]
    }
   ],
   "source": [
    "# calculate the percentage of your 10th mark \n",
    "s1=int(input(\"Enter subject1 mark :\"))\n",
    "s2=int(input(\"Enter subject2 mark :\"))\n",
    "s3=int(input(\"Enter subject3 mark :\"))\n",
    "s4=int(input(\"Enter subject4 mark :\"))\n",
    "s5=int(input(\"Enter subject5 mark :\"))\n",
    "def pers():\n",
    "    add=s1+s2+s3+s4+s5\n",
    "    return add\n",
    "pers()\n",
    "print(\"Total :\",pers())\n",
    "dev=pers()\n",
    "def devs():\n",
    "    per=dev/5\n",
    "    return per    \n",
    "devs()\n",
    "print(\"Persentage:\",devs())"
   ]
  },
  {
   "cell_type": "code",
   "execution_count": null,
   "id": "c84c715d-5731-492a-a9b1-6f1d9b197979",
   "metadata": {},
   "outputs": [],
   "source": [
    "#print area and perimeter of triangle using class and functions\n",
    "Ht=int(input(\"Height :\"))\n",
    "Bd=int(input(\"Breadth :\"))\n",
    "\n",
    "def triangle():\n",
    "    area = (Ht*Bd)/2\n",
    "    return area\n",
    "ar=triangle()\n",
    "print(\"Area of triangle:\",ar)\n",
    "\n",
    "h1=int(input(\"Height1 :\"))\n",
    "h2=int(input(\"Height2 :\"))\n",
    "h3=int(input(\"Height3 :\"))\n",
    "def triangle1(h1,h2,h3):\n",
    "    perimeter = h1+h2+h3\n",
    "    return perimeter\n",
    "p_m=triangle1(h1,h2,h3)\n",
    "print(\"Perimeter of Triangle:\",p_m)"
   ]
  }
 ],
 "metadata": {
  "kernelspec": {
   "display_name": "Python 3 (ipykernel)",
   "language": "python",
   "name": "python3"
  },
  "language_info": {
   "codemirror_mode": {
    "name": "ipython",
    "version": 3
   },
   "file_extension": ".py",
   "mimetype": "text/x-python",
   "name": "python",
   "nbconvert_exporter": "python",
   "pygments_lexer": "ipython3",
   "version": "3.11.7"
  }
 },
 "nbformat": 4,
 "nbformat_minor": 5
}
