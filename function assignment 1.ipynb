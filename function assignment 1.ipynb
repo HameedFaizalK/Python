{
 "cells": [
  {
   "cell_type": "code",
   "execution_count": 2,
   "id": "997e02ad-4903-4ca3-bc14-c11c1f1be377",
   "metadata": {},
   "outputs": [
    {
     "name": "stdout",
     "output_type": "stream",
     "text": [
      "Sub-fields in AI are:\n",
      "Machine learning\n",
      "Neural networks\n",
      "Vision\n",
      "Robotics\n",
      "Speech processing\n",
      "Natural language processing\n"
     ]
    }
   ],
   "source": [
    "#Create a class and function, and list out the items in the list\n",
    "list=[\"Machine learning\",\"Neural networks\",\"Vision\",\"Robotics\",\"Speech processing\",\"Natural language processing\"]\n",
    "def ai():\n",
    "    print(\"Sub-fields in AI are:\")\n",
    "    for i in list:\n",
    "        print(i)\n",
    "ai()"
   ]
  },
  {
   "cell_type": "code",
   "execution_count": null,
   "id": "0b1503d4-d25e-4016-be65-6969a10e5459",
   "metadata": {},
   "outputs": [],
   "source": []
  },
  {
   "cell_type": "code",
   "execution_count": 3,
   "id": "2f7d7ea0-2c04-473d-83cd-896a4d027479",
   "metadata": {},
   "outputs": [
    {
     "name": "stdin",
     "output_type": "stream",
     "text": [
      "Enter the number : 25\n"
     ]
    },
    {
     "name": "stdout",
     "output_type": "stream",
     "text": [
      "25 is odd number\n"
     ]
    }
   ],
   "source": [
    "#Create a function that checks whether the given number is Odd or Even\n",
    "\n",
    "def oddeven():\n",
    "    num = int(input(\"Enter the number :\"))\n",
    "    if(num%2)==1:\n",
    "        print(num,\"is odd number\")\n",
    "    else:\n",
    "        print(num,\"is Even Number\")\n",
    "oddeven()"
   ]
  },
  {
   "cell_type": "code",
   "execution_count": null,
   "id": "6095713f-dc2c-4d2a-8ecd-e5bcf01427d7",
   "metadata": {},
   "outputs": [],
   "source": []
  },
  {
   "cell_type": "code",
   "execution_count": 4,
   "id": "3b701b3b-1420-4ce5-bb29-245c2a5ef99a",
   "metadata": {},
   "outputs": [
    {
     "name": "stdin",
     "output_type": "stream",
     "text": [
      "Enter your gender : male\n",
      "Enter your age : 36\n"
     ]
    },
    {
     "name": "stdout",
     "output_type": "stream",
     "text": [
      "Eligible\n"
     ]
    },
    {
     "data": {
      "text/plain": [
       "'Eligible'"
      ]
     },
     "execution_count": 4,
     "metadata": {},
     "output_type": "execute_result"
    }
   ],
   "source": [
    "# Create a function that tells elegibility of marriage for male and female according to their age limit like 21 for male and 18 for female\n",
    "def Elg():\n",
    "    gend=input(\"Enter your gender :\")\n",
    "    age=int(input(\"Enter your age :\"))\n",
    "    if(gend==\"male\"):\n",
    "        if(age>=21):\n",
    "            print(\"Eligible\")\n",
    "            elgi=\"Eligible\"\n",
    "        else:\n",
    "            print(\"Not eligible\")\n",
    "            elgi=\"Not Eligible\"\n",
    "    elif(gend==\"female\"):\n",
    "        if(age>=18):\n",
    "            print(\"Eligible\")\n",
    "            elgi=\"Eligible\"\n",
    "        else:\n",
    "            print(\"Not eligible\")\n",
    "            elgi=\"Not Eligible\"\n",
    "    return elgi            \n",
    "Elg()"
   ]
  },
  {
   "cell_type": "code",
   "execution_count": 7,
   "id": "3335dfb8-7761-43fe-8688-2e04323416cd",
   "metadata": {},
   "outputs": [
    {
     "name": "stdin",
     "output_type": "stream",
     "text": [
      "Enter subject1 mark : 25\n",
      "Enter subject2 mark : 25\n",
      "Enter subject3 mark : 25\n",
      "Enter subject4 mark : 25\n",
      "Enter subject5 mark : 25\n"
     ]
    },
    {
     "name": "stdout",
     "output_type": "stream",
     "text": [
      "Total : 125\n",
      "Persentage: 25.0\n"
     ]
    }
   ],
   "source": [
    "# calculate the percentage of your 10th mark \n",
    "\n",
    "def pers():\n",
    "    s1=int(input(\"Enter subject1 mark :\"))\n",
    "    s2=int(input(\"Enter subject2 mark :\"))\n",
    "    s3=int(input(\"Enter subject3 mark :\"))\n",
    "    s4=int(input(\"Enter subject4 mark :\"))\n",
    "    s5=int(input(\"Enter subject5 mark :\"))\n",
    "    tot=s1+s2+s3+s4+s5\n",
    "    per=tot/5\n",
    "    print(\"Total :\",tot)\n",
    "    print(\"Persentage:\",per)\n",
    "    return\n",
    "pers()"
   ]
  },
  {
   "cell_type": "code",
   "execution_count": 9,
   "id": "c84c715d-5731-492a-a9b1-6f1d9b197979",
   "metadata": {},
   "outputs": [
    {
     "name": "stdin",
     "output_type": "stream",
     "text": [
      "Height : 20\n",
      "Breadth : 20\n"
     ]
    },
    {
     "name": "stdout",
     "output_type": "stream",
     "text": [
      "Area of triangle: 200.0\n"
     ]
    },
    {
     "name": "stdin",
     "output_type": "stream",
     "text": [
      "Height1 : 20\n",
      "Height2 : 20\n",
      "Height3 : 20\n"
     ]
    },
    {
     "name": "stdout",
     "output_type": "stream",
     "text": [
      "Perimeter of Triangle: 60\n"
     ]
    }
   ],
   "source": [
    "#print area and perimeter of triangle using class and functions\n",
    "def triangle():\n",
    "        Ht=int(input(\"Height :\"))\n",
    "        Bd=int(input(\"Breadth :\"))\n",
    "        area = (Ht*Bd)/2\n",
    "        print(\"Area of triangle:\",area)\n",
    "        \n",
    "        h1=int(input(\"Height1 :\"))\n",
    "        h2=int(input(\"Height2 :\"))\n",
    "        h3=int(input(\"Height3 :\"))\n",
    "        perimeter = h1+h2+h3\n",
    "        print(\"Perimeter of Triangle:\",perimeter)\n",
    "        return\n",
    "triangle()"
   ]
  },
  {
   "cell_type": "code",
   "execution_count": 8,
   "id": "79e877a1-e848-48b3-99c3-bbe759c9bcd6",
   "metadata": {},
   "outputs": [
    {
     "name": "stdin",
     "output_type": "stream",
     "text": [
      "Height : 20\n",
      "Breadth : 20\n"
     ]
    },
    {
     "name": "stdout",
     "output_type": "stream",
     "text": [
      "Area of triangle: 200.0\n"
     ]
    },
    {
     "name": "stdin",
     "output_type": "stream",
     "text": [
      "Height1 : 10\n",
      "Height2 : 10\n",
      "Height3 : 10\n"
     ]
    },
    {
     "name": "stdout",
     "output_type": "stream",
     "text": [
      "Perimeter of Triangle: 30\n"
     ]
    }
   ],
   "source": [
    "def triangle():\n",
    "        Ht=int(input(\"Height :\"))\n",
    "        Bd=int(input(\"Breadth :\"))\n",
    "        area = (Ht*Bd)/2\n",
    "        print(\"Area of triangle:\",area)\n",
    "        \n",
    "        h1=int(input(\"Height1 :\"))\n",
    "        h2=int(input(\"Height2 :\"))\n",
    "        h3=int(input(\"Height3 :\"))\n",
    "        perimeter = h1+h2+h3\n",
    "        print(\"Perimeter of Triangle:\",perimeter)\n",
    "        return\n",
    "triangle()\n"
   ]
  },
  {
   "cell_type": "code",
   "execution_count": null,
   "id": "6db88247-d338-45a6-8176-73dd501fbaa3",
   "metadata": {},
   "outputs": [],
   "source": []
  }
 ],
 "metadata": {
  "kernelspec": {
   "display_name": "Python 3 (ipykernel)",
   "language": "python",
   "name": "python3"
  },
  "language_info": {
   "codemirror_mode": {
    "name": "ipython",
    "version": 3
   },
   "file_extension": ".py",
   "mimetype": "text/x-python",
   "name": "python",
   "nbconvert_exporter": "python",
   "pygments_lexer": "ipython3",
   "version": "3.11.7"
  }
 },
 "nbformat": 4,
 "nbformat_minor": 5
}
