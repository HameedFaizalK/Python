{
 "cells": [
  {
   "cell_type": "code",
   "execution_count": 20,
   "id": "0f6844df-4c84-484c-b2b1-ac4fbd8e2beb",
   "metadata": {},
   "outputs": [
    {
     "name": "stdin",
     "output_type": "stream",
     "text": [
      "Enter subject1 mark : 100\n",
      "Enter subject2 mark : 100\n",
      "Enter subject3 mark : 100\n",
      "Enter subject4 mark : 100\n",
      "Enter subject5 mark : 100\n"
     ]
    },
    {
     "name": "stdout",
     "output_type": "stream",
     "text": [
      "Total : 500\n",
      "Persentage: 100.0\n"
     ]
    }
   ],
   "source": [
    "class practice:\n",
    "    #Create a class and function, and list out the items in the list\n",
    "    def ai():\n",
    "        list=[\"Machine learning\",\"Neural networks\",\"Vision\",\"Robotics\",\"Speech processing\",\"Natural language processing\"]\n",
    "        print(\"Sub-fields in AI are:\")\n",
    "        for i in list:\n",
    "            print(i) \n",
    "    #Create a function that checks whether the given number is Odd or Even\n",
    "    def oddeven():\n",
    "        num = int(input(\"Enter the number :\"))\n",
    "        if(num%2)==1:\n",
    "            print(num,\"is odd number\")\n",
    "        else:\n",
    "            print(num,\"is Even Number\")  \n",
    "    # Create a function that tells elegibility of marriage for male and female according to their age limit like 21 for male and 18 for female\n",
    "    def Elg():\n",
    "        gend=input(\"Enter your gender :\")\n",
    "        age=int(input(\"Enter your age :\"))\n",
    "        if(gend==\"male\"):\n",
    "            if(age>=21):\n",
    "                print(\"Eligible\")\n",
    "                elgi=\"Eligible\"\n",
    "            else:\n",
    "                print(\"Not eligible\")\n",
    "                elgi=\"Not Eligible\"\n",
    "        elif(gend==\"female\"):\n",
    "            if(age>=18):\n",
    "                print(\"Eligible\")\n",
    "                elgi=\"Eligible\"\n",
    "            else:\n",
    "                print(\"Not eligible\")\n",
    "                elgi=\"Not Eligible\"\n",
    "        return elgi   \n",
    "    # calculate the percentage of your 10th mark \n",
    "    \n",
    "    def pers():\n",
    "        s1=int(input(\"Enter subject1 mark :\"))\n",
    "        s2=int(input(\"Enter subject2 mark :\"))\n",
    "        s3=int(input(\"Enter subject3 mark :\"))\n",
    "        s4=int(input(\"Enter subject4 mark :\"))\n",
    "        s5=int(input(\"Enter subject5 mark :\"))\n",
    "        tot=s1+s2+s3+s4+s5\n",
    "        per=tot/5\n",
    "        print(\"Total :\",tot)\n",
    "        print(\"Persentage:\",per)\n",
    "        return\n",
    "    #print area and perimeter of triangle using class and functions\n",
    "    \n",
    "    \n",
    "    def triangle():\n",
    "        Ht=int(input(\"Height :\"))\n",
    "        Bd=int(input(\"Breadth :\"))\n",
    "        area = (Ht*Bd)/2\n",
    "        print(\"Area of triangle:\",area)\n",
    "        \n",
    "        h1=int(input(\"Height1 :\"))\n",
    "        h2=int(input(\"Height2 :\"))\n",
    "        h3=int(input(\"Height3 :\"))\n",
    "        perimeter = h1+h2+h3\n",
    "        print(\"Perimeter of Triangle:\",perimeter)\n",
    "        return\n",
    "        \n",
    "        \n",
    "    #h1=int(input(\"Height1 :\"))\n",
    "    #h2=int(input(\"Height2 :\"))\n",
    "    #h3=int(input(\"Height3 :\"))\n",
    "    #@ef triangle1(h1,h2,h3):\n",
    "        #perimeter = h1+h2+h3\n",
    "        #return perimeter\n",
    "    #p_m=triangle1(h1,h2,h3)\n",
    "    #print(\"Perimeter of Triangle:\",p_m)\n",
    "\n",
    "practice.pers()\n"
   ]
  },
  {
   "cell_type": "markdown",
   "id": "945fbf08-2f26-48fa-b13d-512931fdd97f",
   "metadata": {},
   "source": []
  },
  {
   "cell_type": "code",
   "execution_count": null,
   "id": "ef44060b-874b-45c8-be99-2054fac667e7",
   "metadata": {},
   "outputs": [],
   "source": []
  },
  {
   "cell_type": "code",
   "execution_count": null,
   "id": "4616abf9-81a3-4627-9cdc-35938aac8b68",
   "metadata": {},
   "outputs": [],
   "source": []
  },
  {
   "cell_type": "code",
   "execution_count": null,
   "id": "5f171c4b-626c-4dbe-9963-fc8d8564908c",
   "metadata": {},
   "outputs": [],
   "source": []
  },
  {
   "cell_type": "code",
   "execution_count": null,
   "id": "023c3c6f-010a-4d35-bcd6-af7baa84bc56",
   "metadata": {},
   "outputs": [],
   "source": []
  }
 ],
 "metadata": {
  "kernelspec": {
   "display_name": "Python 3 (ipykernel)",
   "language": "python",
   "name": "python3"
  },
  "language_info": {
   "codemirror_mode": {
    "name": "ipython",
    "version": 3
   },
   "file_extension": ".py",
   "mimetype": "text/x-python",
   "name": "python",
   "nbconvert_exporter": "python",
   "pygments_lexer": "ipython3",
   "version": "3.11.7"
  }
 },
 "nbformat": 4,
 "nbformat_minor": 5
}
